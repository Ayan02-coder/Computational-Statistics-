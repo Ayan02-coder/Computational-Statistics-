{
  "cells": [
    {
      "cell_type": "code",
      "execution_count": 3,
      "metadata": {
        "colab": {
          "base_uri": "https://localhost:8080/"
        },
        "id": "szT84nf63Sii",
        "outputId": "4a0914ea-9b77-4b7c-ba69-4da3ad1caf55"
      },
      "outputs": [
        {
          "name": "stdout",
          "output_type": "stream",
          "text": [
            "Looking in indexes: https://pypi.org/simple, https://us-python.pkg.dev/colab-wheels/public/simple/\n",
            "Collecting factor_analyzer\n",
            "  Downloading factor_analyzer-0.4.1.tar.gz (41 kB)\n",
            "\u001b[K     |████████████████████████████████| 41 kB 500 kB/s \n",
            "\u001b[?25h  Installing build dependencies ... \u001b[?25l\u001b[?25hdone\n",
            "  Getting requirements to build wheel ... \u001b[?25l\u001b[?25hdone\n",
            "    Preparing wheel metadata ... \u001b[?25l\u001b[?25hdone\n",
            "Requirement already satisfied: scipy in /usr/local/lib/python3.8/dist-packages (from factor_analyzer) (1.7.3)\n",
            "Requirement already satisfied: pandas in /usr/local/lib/python3.8/dist-packages (from factor_analyzer) (1.3.5)\n",
            "Requirement already satisfied: numpy in /usr/local/lib/python3.8/dist-packages (from factor_analyzer) (1.21.6)\n",
            "Collecting pre-commit\n",
            "  Downloading pre_commit-2.20.0-py2.py3-none-any.whl (199 kB)\n",
            "\u001b[K     |████████████████████████████████| 199 kB 8.2 MB/s \n",
            "\u001b[?25hRequirement already satisfied: scikit-learn in /usr/local/lib/python3.8/dist-packages (from factor_analyzer) (1.0.2)\n",
            "Requirement already satisfied: pytz>=2017.3 in /usr/local/lib/python3.8/dist-packages (from pandas->factor_analyzer) (2022.6)\n",
            "Requirement already satisfied: python-dateutil>=2.7.3 in /usr/local/lib/python3.8/dist-packages (from pandas->factor_analyzer) (2.8.2)\n",
            "Requirement already satisfied: six>=1.5 in /usr/local/lib/python3.8/dist-packages (from python-dateutil>=2.7.3->pandas->factor_analyzer) (1.15.0)\n",
            "Collecting virtualenv>=20.0.8\n",
            "  Downloading virtualenv-20.17.1-py3-none-any.whl (8.8 MB)\n",
            "\u001b[K     |████████████████████████████████| 8.8 MB 54.4 MB/s \n",
            "\u001b[?25hCollecting cfgv>=2.0.0\n",
            "  Downloading cfgv-3.3.1-py2.py3-none-any.whl (7.3 kB)\n",
            "Collecting nodeenv>=0.11.1\n",
            "  Downloading nodeenv-1.7.0-py2.py3-none-any.whl (21 kB)\n",
            "Requirement already satisfied: pyyaml>=5.1 in /usr/local/lib/python3.8/dist-packages (from pre-commit->factor_analyzer) (6.0)\n",
            "Collecting identify>=1.0.0\n",
            "  Downloading identify-2.5.9-py2.py3-none-any.whl (98 kB)\n",
            "\u001b[K     |████████████████████████████████| 98 kB 8.4 MB/s \n",
            "\u001b[?25hRequirement already satisfied: toml in /usr/local/lib/python3.8/dist-packages (from pre-commit->factor_analyzer) (0.10.2)\n",
            "Requirement already satisfied: setuptools in /usr/local/lib/python3.8/dist-packages (from nodeenv>=0.11.1->pre-commit->factor_analyzer) (57.4.0)\n",
            "Collecting distlib<1,>=0.3.6\n",
            "  Downloading distlib-0.3.6-py2.py3-none-any.whl (468 kB)\n",
            "\u001b[K     |████████████████████████████████| 468 kB 62.3 MB/s \n",
            "\u001b[?25hRequirement already satisfied: filelock<4,>=3.4.1 in /usr/local/lib/python3.8/dist-packages (from virtualenv>=20.0.8->pre-commit->factor_analyzer) (3.8.0)\n",
            "Requirement already satisfied: platformdirs<3,>=2.4 in /usr/local/lib/python3.8/dist-packages (from virtualenv>=20.0.8->pre-commit->factor_analyzer) (2.5.4)\n",
            "Requirement already satisfied: threadpoolctl>=2.0.0 in /usr/local/lib/python3.8/dist-packages (from scikit-learn->factor_analyzer) (3.1.0)\n",
            "Requirement already satisfied: joblib>=0.11 in /usr/local/lib/python3.8/dist-packages (from scikit-learn->factor_analyzer) (1.2.0)\n",
            "Building wheels for collected packages: factor-analyzer\n",
            "  Building wheel for factor-analyzer (PEP 517) ... \u001b[?25l\u001b[?25hdone\n",
            "  Created wheel for factor-analyzer: filename=factor_analyzer-0.4.1-py2.py3-none-any.whl size=42034 sha256=a2c5083bdcb5edb12a261ea5fbdcc6702479317a558cd325fafe22cb94c29b04\n",
            "  Stored in directory: /root/.cache/pip/wheels/f5/8f/2e/a689c21bc4bf04f84ceebf4b1f5846cacc04bfe179e7ad5ab0\n",
            "Successfully built factor-analyzer\n",
            "Installing collected packages: distlib, virtualenv, nodeenv, identify, cfgv, pre-commit, factor-analyzer\n",
            "Successfully installed cfgv-3.3.1 distlib-0.3.6 factor-analyzer-0.4.1 identify-2.5.9 nodeenv-1.7.0 pre-commit-2.20.0 virtualenv-20.17.1\n"
          ]
        }
      ],
      "source": [
        "pip install factor_analyzer"
      ]
    },
    {
      "cell_type": "code",
      "execution_count": 4,
      "metadata": {
        "id": "QC87a0Ob3vLz"
      },
      "outputs": [],
      "source": [
        "import pandas as pd\n",
        "from factor_analyzer import FactorAnalyzer\n",
        "import matplotlib.pyplot as plt"
      ]
    },
    {
      "cell_type": "code",
      "execution_count": 5,
      "metadata": {
        "colab": {
          "base_uri": "https://localhost:8080/"
        },
        "id": "TwBmcRqK3zUz",
        "outputId": "66ae6910-68ee-4a46-c43f-e1ae16779677"
      },
      "outputs": [
        {
          "data": {
            "text/plain": [
              "Index(['Unnamed: 0', 'A1', 'A2', 'A3', 'A4', 'A5', 'C1', 'C2', 'C3', 'C4',\n",
              "       'C5', 'E1', 'E2', 'E3', 'E4', 'E5', 'N1', 'N2', 'N3', 'N4', 'N5', 'O1',\n",
              "       'O2', 'O3', 'O4', 'O5', 'gender', 'education', 'age'],\n",
              "      dtype='object')"
            ]
          },
          "execution_count": 5,
          "metadata": {},
          "output_type": "execute_result"
        }
      ],
      "source": [
        "df= pd.read_csv(\"bfi.csv\")\n",
        "df.columns"
      ]
    },
    {
      "cell_type": "code",
      "execution_count": 6,
      "metadata": {
        "colab": {
          "base_uri": "https://localhost:8080/",
          "height": 235
        },
        "id": "J27vRAdz39Gg",
        "outputId": "f3663ec6-f6b9-4435-a4da-c0361ed578c2"
      },
      "outputs": [
        {
          "data": {
            "text/html": [
              "\n",
              "  <div id=\"df-37e236ec-600f-410b-8bd6-9bd0316a61ed\">\n",
              "    <div class=\"colab-df-container\">\n",
              "      <div>\n",
              "<style scoped>\n",
              "    .dataframe tbody tr th:only-of-type {\n",
              "        vertical-align: middle;\n",
              "    }\n",
              "\n",
              "    .dataframe tbody tr th {\n",
              "        vertical-align: top;\n",
              "    }\n",
              "\n",
              "    .dataframe thead th {\n",
              "        text-align: right;\n",
              "    }\n",
              "</style>\n",
              "<table border=\"1\" class=\"dataframe\">\n",
              "  <thead>\n",
              "    <tr style=\"text-align: right;\">\n",
              "      <th></th>\n",
              "      <th>Unnamed: 0</th>\n",
              "      <th>A1</th>\n",
              "      <th>A2</th>\n",
              "      <th>A3</th>\n",
              "      <th>A4</th>\n",
              "      <th>A5</th>\n",
              "      <th>C1</th>\n",
              "      <th>C2</th>\n",
              "      <th>C3</th>\n",
              "      <th>C4</th>\n",
              "      <th>...</th>\n",
              "      <th>N4</th>\n",
              "      <th>N5</th>\n",
              "      <th>O1</th>\n",
              "      <th>O2</th>\n",
              "      <th>O3</th>\n",
              "      <th>O4</th>\n",
              "      <th>O5</th>\n",
              "      <th>gender</th>\n",
              "      <th>education</th>\n",
              "      <th>age</th>\n",
              "    </tr>\n",
              "  </thead>\n",
              "  <tbody>\n",
              "    <tr>\n",
              "      <th>0</th>\n",
              "      <td>61617</td>\n",
              "      <td>2.0</td>\n",
              "      <td>4.0</td>\n",
              "      <td>3.0</td>\n",
              "      <td>4.0</td>\n",
              "      <td>4.0</td>\n",
              "      <td>2.0</td>\n",
              "      <td>3.0</td>\n",
              "      <td>3.0</td>\n",
              "      <td>4.0</td>\n",
              "      <td>...</td>\n",
              "      <td>2.0</td>\n",
              "      <td>3.0</td>\n",
              "      <td>3.0</td>\n",
              "      <td>6</td>\n",
              "      <td>3.0</td>\n",
              "      <td>4.0</td>\n",
              "      <td>3.0</td>\n",
              "      <td>1</td>\n",
              "      <td>NaN</td>\n",
              "      <td>16</td>\n",
              "    </tr>\n",
              "    <tr>\n",
              "      <th>1</th>\n",
              "      <td>61618</td>\n",
              "      <td>2.0</td>\n",
              "      <td>4.0</td>\n",
              "      <td>5.0</td>\n",
              "      <td>2.0</td>\n",
              "      <td>5.0</td>\n",
              "      <td>5.0</td>\n",
              "      <td>4.0</td>\n",
              "      <td>4.0</td>\n",
              "      <td>3.0</td>\n",
              "      <td>...</td>\n",
              "      <td>5.0</td>\n",
              "      <td>5.0</td>\n",
              "      <td>4.0</td>\n",
              "      <td>2</td>\n",
              "      <td>4.0</td>\n",
              "      <td>3.0</td>\n",
              "      <td>3.0</td>\n",
              "      <td>2</td>\n",
              "      <td>NaN</td>\n",
              "      <td>18</td>\n",
              "    </tr>\n",
              "    <tr>\n",
              "      <th>2</th>\n",
              "      <td>61620</td>\n",
              "      <td>5.0</td>\n",
              "      <td>4.0</td>\n",
              "      <td>5.0</td>\n",
              "      <td>4.0</td>\n",
              "      <td>4.0</td>\n",
              "      <td>4.0</td>\n",
              "      <td>5.0</td>\n",
              "      <td>4.0</td>\n",
              "      <td>2.0</td>\n",
              "      <td>...</td>\n",
              "      <td>2.0</td>\n",
              "      <td>3.0</td>\n",
              "      <td>4.0</td>\n",
              "      <td>2</td>\n",
              "      <td>5.0</td>\n",
              "      <td>5.0</td>\n",
              "      <td>2.0</td>\n",
              "      <td>2</td>\n",
              "      <td>NaN</td>\n",
              "      <td>17</td>\n",
              "    </tr>\n",
              "    <tr>\n",
              "      <th>3</th>\n",
              "      <td>61621</td>\n",
              "      <td>4.0</td>\n",
              "      <td>4.0</td>\n",
              "      <td>6.0</td>\n",
              "      <td>5.0</td>\n",
              "      <td>5.0</td>\n",
              "      <td>4.0</td>\n",
              "      <td>4.0</td>\n",
              "      <td>3.0</td>\n",
              "      <td>5.0</td>\n",
              "      <td>...</td>\n",
              "      <td>4.0</td>\n",
              "      <td>1.0</td>\n",
              "      <td>3.0</td>\n",
              "      <td>3</td>\n",
              "      <td>4.0</td>\n",
              "      <td>3.0</td>\n",
              "      <td>5.0</td>\n",
              "      <td>2</td>\n",
              "      <td>NaN</td>\n",
              "      <td>17</td>\n",
              "    </tr>\n",
              "    <tr>\n",
              "      <th>4</th>\n",
              "      <td>61622</td>\n",
              "      <td>2.0</td>\n",
              "      <td>3.0</td>\n",
              "      <td>3.0</td>\n",
              "      <td>4.0</td>\n",
              "      <td>5.0</td>\n",
              "      <td>4.0</td>\n",
              "      <td>4.0</td>\n",
              "      <td>5.0</td>\n",
              "      <td>3.0</td>\n",
              "      <td>...</td>\n",
              "      <td>4.0</td>\n",
              "      <td>3.0</td>\n",
              "      <td>3.0</td>\n",
              "      <td>3</td>\n",
              "      <td>4.0</td>\n",
              "      <td>3.0</td>\n",
              "      <td>3.0</td>\n",
              "      <td>1</td>\n",
              "      <td>NaN</td>\n",
              "      <td>17</td>\n",
              "    </tr>\n",
              "  </tbody>\n",
              "</table>\n",
              "<p>5 rows × 29 columns</p>\n",
              "</div>\n",
              "      <button class=\"colab-df-convert\" onclick=\"convertToInteractive('df-37e236ec-600f-410b-8bd6-9bd0316a61ed')\"\n",
              "              title=\"Convert this dataframe to an interactive table.\"\n",
              "              style=\"display:none;\">\n",
              "        \n",
              "  <svg xmlns=\"http://www.w3.org/2000/svg\" height=\"24px\"viewBox=\"0 0 24 24\"\n",
              "       width=\"24px\">\n",
              "    <path d=\"M0 0h24v24H0V0z\" fill=\"none\"/>\n",
              "    <path d=\"M18.56 5.44l.94 2.06.94-2.06 2.06-.94-2.06-.94-.94-2.06-.94 2.06-2.06.94zm-11 1L8.5 8.5l.94-2.06 2.06-.94-2.06-.94L8.5 2.5l-.94 2.06-2.06.94zm10 10l.94 2.06.94-2.06 2.06-.94-2.06-.94-.94-2.06-.94 2.06-2.06.94z\"/><path d=\"M17.41 7.96l-1.37-1.37c-.4-.4-.92-.59-1.43-.59-.52 0-1.04.2-1.43.59L10.3 9.45l-7.72 7.72c-.78.78-.78 2.05 0 2.83L4 21.41c.39.39.9.59 1.41.59.51 0 1.02-.2 1.41-.59l7.78-7.78 2.81-2.81c.8-.78.8-2.07 0-2.86zM5.41 20L4 18.59l7.72-7.72 1.47 1.35L5.41 20z\"/>\n",
              "  </svg>\n",
              "      </button>\n",
              "      \n",
              "  <style>\n",
              "    .colab-df-container {\n",
              "      display:flex;\n",
              "      flex-wrap:wrap;\n",
              "      gap: 12px;\n",
              "    }\n",
              "\n",
              "    .colab-df-convert {\n",
              "      background-color: #E8F0FE;\n",
              "      border: none;\n",
              "      border-radius: 50%;\n",
              "      cursor: pointer;\n",
              "      display: none;\n",
              "      fill: #1967D2;\n",
              "      height: 32px;\n",
              "      padding: 0 0 0 0;\n",
              "      width: 32px;\n",
              "    }\n",
              "\n",
              "    .colab-df-convert:hover {\n",
              "      background-color: #E2EBFA;\n",
              "      box-shadow: 0px 1px 2px rgba(60, 64, 67, 0.3), 0px 1px 3px 1px rgba(60, 64, 67, 0.15);\n",
              "      fill: #174EA6;\n",
              "    }\n",
              "\n",
              "    [theme=dark] .colab-df-convert {\n",
              "      background-color: #3B4455;\n",
              "      fill: #D2E3FC;\n",
              "    }\n",
              "\n",
              "    [theme=dark] .colab-df-convert:hover {\n",
              "      background-color: #434B5C;\n",
              "      box-shadow: 0px 1px 3px 1px rgba(0, 0, 0, 0.15);\n",
              "      filter: drop-shadow(0px 1px 2px rgba(0, 0, 0, 0.3));\n",
              "      fill: #FFFFFF;\n",
              "    }\n",
              "  </style>\n",
              "\n",
              "      <script>\n",
              "        const buttonEl =\n",
              "          document.querySelector('#df-37e236ec-600f-410b-8bd6-9bd0316a61ed button.colab-df-convert');\n",
              "        buttonEl.style.display =\n",
              "          google.colab.kernel.accessAllowed ? 'block' : 'none';\n",
              "\n",
              "        async function convertToInteractive(key) {\n",
              "          const element = document.querySelector('#df-37e236ec-600f-410b-8bd6-9bd0316a61ed');\n",
              "          const dataTable =\n",
              "            await google.colab.kernel.invokeFunction('convertToInteractive',\n",
              "                                                     [key], {});\n",
              "          if (!dataTable) return;\n",
              "\n",
              "          const docLinkHtml = 'Like what you see? Visit the ' +\n",
              "            '<a target=\"_blank\" href=https://colab.research.google.com/notebooks/data_table.ipynb>data table notebook</a>'\n",
              "            + ' to learn more about interactive tables.';\n",
              "          element.innerHTML = '';\n",
              "          dataTable['output_type'] = 'display_data';\n",
              "          await google.colab.output.renderOutput(dataTable, element);\n",
              "          const docLink = document.createElement('div');\n",
              "          docLink.innerHTML = docLinkHtml;\n",
              "          element.appendChild(docLink);\n",
              "        }\n",
              "      </script>\n",
              "    </div>\n",
              "  </div>\n",
              "  "
            ],
            "text/plain": [
              "   Unnamed: 0   A1   A2   A3   A4   A5   C1   C2   C3   C4  ...   N4   N5  \\\n",
              "0       61617  2.0  4.0  3.0  4.0  4.0  2.0  3.0  3.0  4.0  ...  2.0  3.0   \n",
              "1       61618  2.0  4.0  5.0  2.0  5.0  5.0  4.0  4.0  3.0  ...  5.0  5.0   \n",
              "2       61620  5.0  4.0  5.0  4.0  4.0  4.0  5.0  4.0  2.0  ...  2.0  3.0   \n",
              "3       61621  4.0  4.0  6.0  5.0  5.0  4.0  4.0  3.0  5.0  ...  4.0  1.0   \n",
              "4       61622  2.0  3.0  3.0  4.0  5.0  4.0  4.0  5.0  3.0  ...  4.0  3.0   \n",
              "\n",
              "    O1  O2   O3   O4   O5  gender  education  age  \n",
              "0  3.0   6  3.0  4.0  3.0       1        NaN   16  \n",
              "1  4.0   2  4.0  3.0  3.0       2        NaN   18  \n",
              "2  4.0   2  5.0  5.0  2.0       2        NaN   17  \n",
              "3  3.0   3  4.0  3.0  5.0       2        NaN   17  \n",
              "4  3.0   3  4.0  3.0  3.0       1        NaN   17  \n",
              "\n",
              "[5 rows x 29 columns]"
            ]
          },
          "execution_count": 6,
          "metadata": {},
          "output_type": "execute_result"
        }
      ],
      "source": [
        "df.head()"
      ]
    },
    {
      "cell_type": "code",
      "execution_count": 7,
      "metadata": {
        "id": "5ymzJg5_4E3c"
      },
      "outputs": [],
      "source": [
        "df.drop(['gender','education','age'],axis= 1,inplace=True)"
      ]
    },
    {
      "cell_type": "code",
      "execution_count": 8,
      "metadata": {
        "colab": {
          "base_uri": "https://localhost:8080/"
        },
        "id": "7ijOIUR24UMV",
        "outputId": "56eda92d-2238-4e05-ed9e-ead9b14a433b"
      },
      "outputs": [
        {
          "data": {
            "text/plain": [
              "FactorAnalyzer(rotation='varimax', rotation_kwargs={})"
            ]
          },
          "execution_count": 8,
          "metadata": {},
          "output_type": "execute_result"
        }
      ],
      "source": [
        "fa = FactorAnalyzer(n_factors =3,rotation= 'varimax')\n",
        "fa.fit(df)"
      ]
    },
    {
      "cell_type": "code",
      "execution_count": 9,
      "metadata": {
        "colab": {
          "base_uri": "https://localhost:8080/"
        },
        "id": "LxjUtVOk4WpC",
        "outputId": "aa0fc7c1-1056-4281-c09d-60768139d388"
      },
      "outputs": [
        {
          "data": {
            "text/plain": [
              "(array([3.18547698, 2.63104969, 2.16443416]),\n",
              " array([0.12251835, 0.10119422, 0.08324747]),\n",
              " array([0.12251835, 0.22371256, 0.30696003]))"
            ]
          },
          "execution_count": 9,
          "metadata": {},
          "output_type": "execute_result"
        }
      ],
      "source": [
        "\n",
        "fa.get_factor_variance()"
      ]
    },
    {
      "cell_type": "code",
      "execution_count": 10,
      "metadata": {
        "colab": {
          "base_uri": "https://localhost:8080/"
        },
        "id": "kd3OAgth4ZWN",
        "outputId": "4839a03c-c058-443a-9f79-7c11e91c176e"
      },
      "outputs": [
        {
          "data": {
            "text/plain": [
              "array([[-0.0629696 , -0.01206258,  0.0401532 ],\n",
              "       [-0.21040805,  0.09508059,  0.01774369],\n",
              "       [ 0.51282469,  0.06474754,  0.07057059],\n",
              "       [ 0.62701379,  0.0414045 ,  0.01364307],\n",
              "       [ 0.35575977, -0.0447108 ,  0.09615151],\n",
              "       [ 0.63686908, -0.0747393 , -0.01040033],\n",
              "       [-0.03344846,  0.07906129,  0.595926  ],\n",
              "       [-0.01682961,  0.153664  ,  0.64311357],\n",
              "       [-0.00970941,  0.01939466,  0.49193266],\n",
              "       [ 0.06372466,  0.1895102 , -0.61754543],\n",
              "       [-0.0446703 ,  0.25533358, -0.46515113],\n",
              "       [-0.54438446,  0.02608285,  0.11280752],\n",
              "       [-0.57854301,  0.21955256,  0.01727527],\n",
              "       [ 0.6198154 ,  0.08217561,  0.07075857],\n",
              "       [ 0.69248896, -0.08967786, -0.08192543],\n",
              "       [ 0.42761022,  0.09214523,  0.29393709],\n",
              "       [ 0.01543653,  0.72748289, -0.06880527],\n",
              "       [-0.00410355,  0.7326831 , -0.02519815],\n",
              "       [ 0.03084584,  0.74558302, -0.04884242],\n",
              "       [-0.18331007,  0.57715781, -0.0756836 ],\n",
              "       [-0.00558987,  0.51215843, -0.0818988 ],\n",
              "       [ 0.21693491,  0.08633081,  0.27319773],\n",
              "       [ 0.06973577,  0.1111322 , -0.28292042],\n",
              "       [ 0.32910042,  0.11198489,  0.25245644],\n",
              "       [-0.01323146,  0.2752604 ,  0.15219946],\n",
              "       [-0.02245803,  0.01124008, -0.26143044]])"
            ]
          },
          "execution_count": 10,
          "metadata": {},
          "output_type": "execute_result"
        }
      ],
      "source": [
        "ev, v= fa.get_eigenvalues()\n",
        "fa = FactorAnalyzer()\n",
        "fa.fit(df)\n",
        "fa.loadings_"
      ]
    },
    {
      "cell_type": "code",
      "execution_count": 11,
      "metadata": {
        "colab": {
          "base_uri": "https://localhost:8080/"
        },
        "id": "TCwBsgF24fsn",
        "outputId": "35fe02a9-98f6-483a-9947-6a6a673173ad"
      },
      "outputs": [
        {
          "data": {
            "text/plain": [
              "array([5.010942  , 2.73339609, 2.10063083, 1.82518774, 1.53044116,\n",
              "       1.13793896, 0.99075956, 0.84198129, 0.80487533, 0.73643558,\n",
              "       0.69695867, 0.68195111, 0.66104604, 0.62990575, 0.60124341,\n",
              "       0.56676166, 0.54336199, 0.52529125, 0.50315316, 0.49349115,\n",
              "       0.45894593, 0.43600042, 0.41206865, 0.40964281, 0.38825624,\n",
              "       0.27933322])"
            ]
          },
          "execution_count": 11,
          "metadata": {},
          "output_type": "execute_result"
        }
      ],
      "source": [
        "ev, v = fa.get_eigenvalues()\n",
        "ev"
      ]
    },
    {
      "cell_type": "code",
      "execution_count": 12,
      "metadata": {
        "colab": {
          "base_uri": "https://localhost:8080/",
          "height": 394
        },
        "id": "1b6ku7Sb4i_Q",
        "outputId": "5d8fd094-aa5e-43e5-e751-4c4c8a0494f9"
      },
      "outputs": [
        {
          "data": {
            "text/html": [
              "\n",
              "  <div id=\"df-b226f94d-2610-4f4c-a7c4-84f12bbf2ffc\">\n",
              "    <div class=\"colab-df-container\">\n",
              "      <div>\n",
              "<style scoped>\n",
              "    .dataframe tbody tr th:only-of-type {\n",
              "        vertical-align: middle;\n",
              "    }\n",
              "\n",
              "    .dataframe tbody tr th {\n",
              "        vertical-align: top;\n",
              "    }\n",
              "\n",
              "    .dataframe thead th {\n",
              "        text-align: right;\n",
              "    }\n",
              "</style>\n",
              "<table border=\"1\" class=\"dataframe\">\n",
              "  <thead>\n",
              "    <tr style=\"text-align: right;\">\n",
              "      <th></th>\n",
              "      <th>Unnamed: 0</th>\n",
              "      <th>A1</th>\n",
              "      <th>A2</th>\n",
              "      <th>A3</th>\n",
              "      <th>A4</th>\n",
              "      <th>A5</th>\n",
              "      <th>C1</th>\n",
              "      <th>C2</th>\n",
              "      <th>C3</th>\n",
              "      <th>C4</th>\n",
              "      <th>...</th>\n",
              "      <th>N1</th>\n",
              "      <th>N2</th>\n",
              "      <th>N3</th>\n",
              "      <th>N4</th>\n",
              "      <th>N5</th>\n",
              "      <th>O1</th>\n",
              "      <th>O2</th>\n",
              "      <th>O3</th>\n",
              "      <th>O4</th>\n",
              "      <th>O5</th>\n",
              "    </tr>\n",
              "  </thead>\n",
              "  <tbody>\n",
              "    <tr>\n",
              "      <th>count</th>\n",
              "      <td>2800.000000</td>\n",
              "      <td>2784.000000</td>\n",
              "      <td>2773.00000</td>\n",
              "      <td>2774.000000</td>\n",
              "      <td>2781.000000</td>\n",
              "      <td>2784.000000</td>\n",
              "      <td>2779.000000</td>\n",
              "      <td>2776.000000</td>\n",
              "      <td>2780.000000</td>\n",
              "      <td>2774.000000</td>\n",
              "      <td>...</td>\n",
              "      <td>2778.000000</td>\n",
              "      <td>2779.000000</td>\n",
              "      <td>2789.000000</td>\n",
              "      <td>2764.000000</td>\n",
              "      <td>2771.000000</td>\n",
              "      <td>2778.000000</td>\n",
              "      <td>2800.000000</td>\n",
              "      <td>2772.000000</td>\n",
              "      <td>2786.000000</td>\n",
              "      <td>2780.000000</td>\n",
              "    </tr>\n",
              "    <tr>\n",
              "      <th>mean</th>\n",
              "      <td>64599.238214</td>\n",
              "      <td>2.413434</td>\n",
              "      <td>4.80238</td>\n",
              "      <td>4.603821</td>\n",
              "      <td>4.699748</td>\n",
              "      <td>4.560345</td>\n",
              "      <td>4.502339</td>\n",
              "      <td>4.369957</td>\n",
              "      <td>4.303957</td>\n",
              "      <td>2.553353</td>\n",
              "      <td>...</td>\n",
              "      <td>2.929086</td>\n",
              "      <td>3.507737</td>\n",
              "      <td>3.216565</td>\n",
              "      <td>3.185601</td>\n",
              "      <td>2.969686</td>\n",
              "      <td>4.816055</td>\n",
              "      <td>2.713214</td>\n",
              "      <td>4.438312</td>\n",
              "      <td>4.892319</td>\n",
              "      <td>2.489568</td>\n",
              "    </tr>\n",
              "    <tr>\n",
              "      <th>std</th>\n",
              "      <td>1728.527002</td>\n",
              "      <td>1.407737</td>\n",
              "      <td>1.17202</td>\n",
              "      <td>1.301834</td>\n",
              "      <td>1.479633</td>\n",
              "      <td>1.258512</td>\n",
              "      <td>1.241347</td>\n",
              "      <td>1.318347</td>\n",
              "      <td>1.288552</td>\n",
              "      <td>1.375118</td>\n",
              "      <td>...</td>\n",
              "      <td>1.570917</td>\n",
              "      <td>1.525944</td>\n",
              "      <td>1.602902</td>\n",
              "      <td>1.569685</td>\n",
              "      <td>1.618647</td>\n",
              "      <td>1.129530</td>\n",
              "      <td>1.565152</td>\n",
              "      <td>1.220901</td>\n",
              "      <td>1.221250</td>\n",
              "      <td>1.327959</td>\n",
              "    </tr>\n",
              "    <tr>\n",
              "      <th>min</th>\n",
              "      <td>61617.000000</td>\n",
              "      <td>1.000000</td>\n",
              "      <td>1.00000</td>\n",
              "      <td>1.000000</td>\n",
              "      <td>1.000000</td>\n",
              "      <td>1.000000</td>\n",
              "      <td>1.000000</td>\n",
              "      <td>1.000000</td>\n",
              "      <td>1.000000</td>\n",
              "      <td>1.000000</td>\n",
              "      <td>...</td>\n",
              "      <td>1.000000</td>\n",
              "      <td>1.000000</td>\n",
              "      <td>1.000000</td>\n",
              "      <td>1.000000</td>\n",
              "      <td>1.000000</td>\n",
              "      <td>1.000000</td>\n",
              "      <td>1.000000</td>\n",
              "      <td>1.000000</td>\n",
              "      <td>1.000000</td>\n",
              "      <td>1.000000</td>\n",
              "    </tr>\n",
              "    <tr>\n",
              "      <th>25%</th>\n",
              "      <td>63080.000000</td>\n",
              "      <td>1.000000</td>\n",
              "      <td>4.00000</td>\n",
              "      <td>4.000000</td>\n",
              "      <td>4.000000</td>\n",
              "      <td>4.000000</td>\n",
              "      <td>4.000000</td>\n",
              "      <td>4.000000</td>\n",
              "      <td>4.000000</td>\n",
              "      <td>1.000000</td>\n",
              "      <td>...</td>\n",
              "      <td>2.000000</td>\n",
              "      <td>2.000000</td>\n",
              "      <td>2.000000</td>\n",
              "      <td>2.000000</td>\n",
              "      <td>2.000000</td>\n",
              "      <td>4.000000</td>\n",
              "      <td>1.000000</td>\n",
              "      <td>4.000000</td>\n",
              "      <td>4.000000</td>\n",
              "      <td>1.000000</td>\n",
              "    </tr>\n",
              "    <tr>\n",
              "      <th>50%</th>\n",
              "      <td>64575.000000</td>\n",
              "      <td>2.000000</td>\n",
              "      <td>5.00000</td>\n",
              "      <td>5.000000</td>\n",
              "      <td>5.000000</td>\n",
              "      <td>5.000000</td>\n",
              "      <td>5.000000</td>\n",
              "      <td>5.000000</td>\n",
              "      <td>5.000000</td>\n",
              "      <td>2.000000</td>\n",
              "      <td>...</td>\n",
              "      <td>3.000000</td>\n",
              "      <td>4.000000</td>\n",
              "      <td>3.000000</td>\n",
              "      <td>3.000000</td>\n",
              "      <td>3.000000</td>\n",
              "      <td>5.000000</td>\n",
              "      <td>2.000000</td>\n",
              "      <td>5.000000</td>\n",
              "      <td>5.000000</td>\n",
              "      <td>2.000000</td>\n",
              "    </tr>\n",
              "    <tr>\n",
              "      <th>75%</th>\n",
              "      <td>66092.250000</td>\n",
              "      <td>3.000000</td>\n",
              "      <td>6.00000</td>\n",
              "      <td>6.000000</td>\n",
              "      <td>6.000000</td>\n",
              "      <td>5.000000</td>\n",
              "      <td>5.000000</td>\n",
              "      <td>5.000000</td>\n",
              "      <td>5.000000</td>\n",
              "      <td>4.000000</td>\n",
              "      <td>...</td>\n",
              "      <td>4.000000</td>\n",
              "      <td>5.000000</td>\n",
              "      <td>4.000000</td>\n",
              "      <td>4.000000</td>\n",
              "      <td>4.000000</td>\n",
              "      <td>6.000000</td>\n",
              "      <td>4.000000</td>\n",
              "      <td>5.000000</td>\n",
              "      <td>6.000000</td>\n",
              "      <td>3.000000</td>\n",
              "    </tr>\n",
              "    <tr>\n",
              "      <th>max</th>\n",
              "      <td>67560.000000</td>\n",
              "      <td>6.000000</td>\n",
              "      <td>6.00000</td>\n",
              "      <td>6.000000</td>\n",
              "      <td>6.000000</td>\n",
              "      <td>6.000000</td>\n",
              "      <td>6.000000</td>\n",
              "      <td>6.000000</td>\n",
              "      <td>6.000000</td>\n",
              "      <td>6.000000</td>\n",
              "      <td>...</td>\n",
              "      <td>6.000000</td>\n",
              "      <td>6.000000</td>\n",
              "      <td>6.000000</td>\n",
              "      <td>6.000000</td>\n",
              "      <td>6.000000</td>\n",
              "      <td>6.000000</td>\n",
              "      <td>6.000000</td>\n",
              "      <td>6.000000</td>\n",
              "      <td>6.000000</td>\n",
              "      <td>6.000000</td>\n",
              "    </tr>\n",
              "  </tbody>\n",
              "</table>\n",
              "<p>8 rows × 26 columns</p>\n",
              "</div>\n",
              "      <button class=\"colab-df-convert\" onclick=\"convertToInteractive('df-b226f94d-2610-4f4c-a7c4-84f12bbf2ffc')\"\n",
              "              title=\"Convert this dataframe to an interactive table.\"\n",
              "              style=\"display:none;\">\n",
              "        \n",
              "  <svg xmlns=\"http://www.w3.org/2000/svg\" height=\"24px\"viewBox=\"0 0 24 24\"\n",
              "       width=\"24px\">\n",
              "    <path d=\"M0 0h24v24H0V0z\" fill=\"none\"/>\n",
              "    <path d=\"M18.56 5.44l.94 2.06.94-2.06 2.06-.94-2.06-.94-.94-2.06-.94 2.06-2.06.94zm-11 1L8.5 8.5l.94-2.06 2.06-.94-2.06-.94L8.5 2.5l-.94 2.06-2.06.94zm10 10l.94 2.06.94-2.06 2.06-.94-2.06-.94-.94-2.06-.94 2.06-2.06.94z\"/><path d=\"M17.41 7.96l-1.37-1.37c-.4-.4-.92-.59-1.43-.59-.52 0-1.04.2-1.43.59L10.3 9.45l-7.72 7.72c-.78.78-.78 2.05 0 2.83L4 21.41c.39.39.9.59 1.41.59.51 0 1.02-.2 1.41-.59l7.78-7.78 2.81-2.81c.8-.78.8-2.07 0-2.86zM5.41 20L4 18.59l7.72-7.72 1.47 1.35L5.41 20z\"/>\n",
              "  </svg>\n",
              "      </button>\n",
              "      \n",
              "  <style>\n",
              "    .colab-df-container {\n",
              "      display:flex;\n",
              "      flex-wrap:wrap;\n",
              "      gap: 12px;\n",
              "    }\n",
              "\n",
              "    .colab-df-convert {\n",
              "      background-color: #E8F0FE;\n",
              "      border: none;\n",
              "      border-radius: 50%;\n",
              "      cursor: pointer;\n",
              "      display: none;\n",
              "      fill: #1967D2;\n",
              "      height: 32px;\n",
              "      padding: 0 0 0 0;\n",
              "      width: 32px;\n",
              "    }\n",
              "\n",
              "    .colab-df-convert:hover {\n",
              "      background-color: #E2EBFA;\n",
              "      box-shadow: 0px 1px 2px rgba(60, 64, 67, 0.3), 0px 1px 3px 1px rgba(60, 64, 67, 0.15);\n",
              "      fill: #174EA6;\n",
              "    }\n",
              "\n",
              "    [theme=dark] .colab-df-convert {\n",
              "      background-color: #3B4455;\n",
              "      fill: #D2E3FC;\n",
              "    }\n",
              "\n",
              "    [theme=dark] .colab-df-convert:hover {\n",
              "      background-color: #434B5C;\n",
              "      box-shadow: 0px 1px 3px 1px rgba(0, 0, 0, 0.15);\n",
              "      filter: drop-shadow(0px 1px 2px rgba(0, 0, 0, 0.3));\n",
              "      fill: #FFFFFF;\n",
              "    }\n",
              "  </style>\n",
              "\n",
              "      <script>\n",
              "        const buttonEl =\n",
              "          document.querySelector('#df-b226f94d-2610-4f4c-a7c4-84f12bbf2ffc button.colab-df-convert');\n",
              "        buttonEl.style.display =\n",
              "          google.colab.kernel.accessAllowed ? 'block' : 'none';\n",
              "\n",
              "        async function convertToInteractive(key) {\n",
              "          const element = document.querySelector('#df-b226f94d-2610-4f4c-a7c4-84f12bbf2ffc');\n",
              "          const dataTable =\n",
              "            await google.colab.kernel.invokeFunction('convertToInteractive',\n",
              "                                                     [key], {});\n",
              "          if (!dataTable) return;\n",
              "\n",
              "          const docLinkHtml = 'Like what you see? Visit the ' +\n",
              "            '<a target=\"_blank\" href=https://colab.research.google.com/notebooks/data_table.ipynb>data table notebook</a>'\n",
              "            + ' to learn more about interactive tables.';\n",
              "          element.innerHTML = '';\n",
              "          dataTable['output_type'] = 'display_data';\n",
              "          await google.colab.output.renderOutput(dataTable, element);\n",
              "          const docLink = document.createElement('div');\n",
              "          docLink.innerHTML = docLinkHtml;\n",
              "          element.appendChild(docLink);\n",
              "        }\n",
              "      </script>\n",
              "    </div>\n",
              "  </div>\n",
              "  "
            ],
            "text/plain": [
              "         Unnamed: 0           A1          A2           A3           A4  \\\n",
              "count   2800.000000  2784.000000  2773.00000  2774.000000  2781.000000   \n",
              "mean   64599.238214     2.413434     4.80238     4.603821     4.699748   \n",
              "std     1728.527002     1.407737     1.17202     1.301834     1.479633   \n",
              "min    61617.000000     1.000000     1.00000     1.000000     1.000000   \n",
              "25%    63080.000000     1.000000     4.00000     4.000000     4.000000   \n",
              "50%    64575.000000     2.000000     5.00000     5.000000     5.000000   \n",
              "75%    66092.250000     3.000000     6.00000     6.000000     6.000000   \n",
              "max    67560.000000     6.000000     6.00000     6.000000     6.000000   \n",
              "\n",
              "                A5           C1           C2           C3           C4  ...  \\\n",
              "count  2784.000000  2779.000000  2776.000000  2780.000000  2774.000000  ...   \n",
              "mean      4.560345     4.502339     4.369957     4.303957     2.553353  ...   \n",
              "std       1.258512     1.241347     1.318347     1.288552     1.375118  ...   \n",
              "min       1.000000     1.000000     1.000000     1.000000     1.000000  ...   \n",
              "25%       4.000000     4.000000     4.000000     4.000000     1.000000  ...   \n",
              "50%       5.000000     5.000000     5.000000     5.000000     2.000000  ...   \n",
              "75%       5.000000     5.000000     5.000000     5.000000     4.000000  ...   \n",
              "max       6.000000     6.000000     6.000000     6.000000     6.000000  ...   \n",
              "\n",
              "                N1           N2           N3           N4           N5  \\\n",
              "count  2778.000000  2779.000000  2789.000000  2764.000000  2771.000000   \n",
              "mean      2.929086     3.507737     3.216565     3.185601     2.969686   \n",
              "std       1.570917     1.525944     1.602902     1.569685     1.618647   \n",
              "min       1.000000     1.000000     1.000000     1.000000     1.000000   \n",
              "25%       2.000000     2.000000     2.000000     2.000000     2.000000   \n",
              "50%       3.000000     4.000000     3.000000     3.000000     3.000000   \n",
              "75%       4.000000     5.000000     4.000000     4.000000     4.000000   \n",
              "max       6.000000     6.000000     6.000000     6.000000     6.000000   \n",
              "\n",
              "                O1           O2           O3           O4           O5  \n",
              "count  2778.000000  2800.000000  2772.000000  2786.000000  2780.000000  \n",
              "mean      4.816055     2.713214     4.438312     4.892319     2.489568  \n",
              "std       1.129530     1.565152     1.220901     1.221250     1.327959  \n",
              "min       1.000000     1.000000     1.000000     1.000000     1.000000  \n",
              "25%       4.000000     1.000000     4.000000     4.000000     1.000000  \n",
              "50%       5.000000     2.000000     5.000000     5.000000     2.000000  \n",
              "75%       6.000000     4.000000     5.000000     6.000000     3.000000  \n",
              "max       6.000000     6.000000     6.000000     6.000000     6.000000  \n",
              "\n",
              "[8 rows x 26 columns]"
            ]
          },
          "execution_count": 12,
          "metadata": {},
          "output_type": "execute_result"
        }
      ],
      "source": [
        "\n",
        "df.describe()\n",
        "     "
      ]
    },
    {
      "cell_type": "code",
      "execution_count": 15,
      "metadata": {
        "colab": {
          "base_uri": "https://localhost:8080/"
        },
        "id": "atNORTIb4sR9",
        "outputId": "4d2df18f-3c96-4fb9-8c55-c14dd4925509"
      },
      "outputs": [
        {
          "data": {
            "text/plain": [
              "27"
            ]
          },
          "execution_count": 15,
          "metadata": {},
          "output_type": "execute_result"
        }
      ],
      "source": [
        "df.shape[1]+1\n",
        "\n"
      ]
    },
    {
      "cell_type": "code",
      "execution_count": 18,
      "metadata": {
        "colab": {
          "base_uri": "https://localhost:8080/",
          "height": 295
        },
        "id": "6LA8txQE5RDb",
        "outputId": "f8a7c57c-85b5-485b-c680-bbf9033d8000"
      },
      "outputs": [
        {
          "data": {
            "image/png": "[encoded data removed]",
            "text/plain": [
              "<Figure size 432x288 with 1 Axes>"
            ]
          },
          "metadata": {
            "needs_background": "light"
          },
          "output_type": "display_data"
        }
      ],
      "source": [
        "ev1,v1 =fa.get_eigenvalues()\n",
        "plt.scatter(range(1,df.shape[1]+1),ev)\n",
        "plt.plot(range(1,df.shape[1]+1),ev)\n",
        "plt.title('Scree Plot')\n",
        "plt.xlabel('Factors')\n",
        "plt.ylabel('Eigenvalue')\n",
        "plt.grid()\n",
        "plt.show()"
      ]
    },
    {
      "cell_type": "code",
      "execution_count": 19,
      "metadata": {
        "colab": {
          "base_uri": "https://localhost:8080/",
          "height": 295
        },
        "id": "pKJ8LIH15nUA",
        "outputId": "09ed157c-29ab-4caf-87dd-ce512e1d56f0"
      },
      "outputs": [
        {
          "data": {
            "image/png": "[encoded data removed]",
            "text/plain": [
              "<Figure size 432x288 with 1 Axes>"
            ]
          },
          "metadata": {
            "needs_background": "light"
          },
          "output_type": "display_data"
        }
      ],
      "source": [
        "plt.scatter(range(1,df.shape[1]+1),ev1)\n",
        "plt.plot(range(1,df.shape[1]+1),ev1)\n",
        "plt.title('Scree Plot')\n",
        "plt.xlabel('Factors')\n",
        "plt.ylabel('Eigenvalue')\n",
        "plt.grid()\n",
        "plt.show()"
      ]
    },
    {
      "cell_type": "code",
      "execution_count": 20,
      "metadata": {
        "colab": {
          "base_uri": "https://localhost:8080/"
        },
        "id": "J2Kfxzff5o74",
        "outputId": "10ae316e-f12a-45a9-ee83-5cf4c320a96e"
      },
      "outputs": [
        {
          "data": {
            "text/plain": [
              "(array([3.11747181, 2.55180151, 2.06615269]),\n",
              " array([0.11990276, 0.09814621, 0.07946741]),\n",
              " array([0.11990276, 0.21804897, 0.29751638]))"
            ]
          },
          "execution_count": 20,
          "metadata": {},
          "output_type": "execute_result"
        }
      ],
      "source": [
        "fa.get_factor_variance()"
      ]
    },
    {
      "cell_type": "code",
      "execution_count": 21,
      "metadata": {
        "colab": {
          "base_uri": "https://localhost:8080/"
        },
        "id": "qnWRFUJi5xcd",
        "outputId": "2e7a5181-5c5c-4a16-bca7-63ba8c5f3f10"
      },
      "outputs": [
        {
          "data": {
            "text/plain": [
              "array([0.00572296, 0.0536267 , 0.27216162, 0.39504676, 0.13780918,\n",
              "       0.41129636, 0.36249729, 0.43749092, 0.24246817, 0.4213373 ,\n",
              "       0.28355625, 0.30976029, 0.38321377, 0.39593074, 0.49429486,\n",
              "       0.27774025, 0.53420381, 0.53747631, 0.55923109, 0.37244173,\n",
              "       0.26904492, 0.12915076, 0.09725741, 0.18458195, 0.09910803,\n",
              "       0.06897658])"
            ]
          },
          "execution_count": 21,
          "metadata": {},
          "output_type": "execute_result"
        }
      ],
      "source": [
        "fa.get_communalities()"
      ]
    },
    {
      "cell_type": "code",
      "execution_count": 22,
      "metadata": {
        "colab": {
          "base_uri": "https://localhost:8080/"
        },
        "id": "NbCBZNem5zwO",
        "outputId": "8937e31d-cb2a-4bbf-aa65-64e8dc498bc8"
      },
      "outputs": [
        {
          "data": {
            "text/plain": [
              "array([0.99427704, 0.9463733 , 0.72783838, 0.60495324, 0.86219082,\n",
              "       0.58870364, 0.63750271, 0.56250908, 0.75753183, 0.5786627 ,\n",
              "       0.71644375, 0.69023971, 0.61678623, 0.60406926, 0.50570514,\n",
              "       0.72225975, 0.46579619, 0.46252369, 0.44076891, 0.62755827,\n",
              "       0.73095508, 0.87084924, 0.90274259, 0.81541805, 0.90089197,\n",
              "       0.93102342])"
            ]
          },
          "execution_count": 22,
          "metadata": {},
          "output_type": "execute_result"
        }
      ],
      "source": [
        "fa.get_uniquenesses()"
      ]
    }
  ],
  "metadata": {
    "colab": {
      "provenance": [],
      "toc_visible": true
    },
    "kernelspec": {
      "display_name": "Python 3",
      "language": "python",
      "name": "python3"
    },
    "language_info": {
      "name": "python",
      "version": "3.10.5 (tags/v3.10.5:f377153, Jun  6 2022, 16:14:13) [MSC v.1929 64 bit (AMD64)]"
    },
    "vscode": {
      "interpreter": {
        "hash": "8a2f6d6adce5c5ecbf8dd6b14a45b13b66069489f116036279de2bba15d4d084"
      }
    }
  },
  "nbformat": 4,
  "nbformat_minor": 0
}
